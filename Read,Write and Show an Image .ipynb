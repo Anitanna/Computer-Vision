{
 "cells": [
  {
   "cell_type": "code",
   "execution_count": 1,
   "metadata": {},
   "outputs": [],
   "source": [
    "import cv2"
   ]
  },
  {
   "cell_type": "markdown",
   "metadata": {},
   "source": [
    "# Read,Write and Show image\n",
    "\n",
    "#### 1.  In order to read image we use cv2.imread function.\n",
    "\n",
    "#### 2.  cv2.imwrite is used to save an image to any storage device.\n",
    "\n",
    "#### 3.  To show the function we can use cv2.imshow function with the following functions cv2.waitKey and   cv2.destroyAllWindows."
   ]
  },
  {
   "cell_type": "code",
   "execution_count": 2,
   "metadata": {},
   "outputs": [
    {
     "data": {
      "text/plain": [
       "array([[[128, 138, 225],\n",
       "        [127, 137, 224],\n",
       "        [126, 136, 224],\n",
       "        ...,\n",
       "        [126, 145, 236],\n",
       "        [110, 129, 220],\n",
       "        [ 86, 104, 197]],\n",
       "\n",
       "       [[127, 137, 224],\n",
       "        [127, 137, 224],\n",
       "        [127, 137, 224],\n",
       "        ...,\n",
       "        [130, 150, 235],\n",
       "        [112, 132, 217],\n",
       "        [ 83, 102, 189]],\n",
       "\n",
       "       [[127, 137, 224],\n",
       "        [127, 137, 224],\n",
       "        [128, 138, 225],\n",
       "        ...,\n",
       "        [127, 148, 230],\n",
       "        [112, 133, 215],\n",
       "        [ 85, 105, 190]],\n",
       "\n",
       "       ...,\n",
       "\n",
       "       [[ 55,  21,  82],\n",
       "        [ 54,  20,  81],\n",
       "        [ 62,  28,  92],\n",
       "        ...,\n",
       "        [ 82,  71, 175],\n",
       "        [ 78,  68, 175],\n",
       "        [ 74,  65, 175]],\n",
       "\n",
       "       [[ 55,  18,  80],\n",
       "        [ 56,  19,  81],\n",
       "        [ 66,  32,  96],\n",
       "        ...,\n",
       "        [ 82,  69, 177],\n",
       "        [ 80,  71, 181],\n",
       "        [ 81,  72, 183]],\n",
       "\n",
       "       [[ 56,  19,  81],\n",
       "        [ 58,  21,  83],\n",
       "        [ 68,  34,  98],\n",
       "        ...,\n",
       "        [ 81,  68, 176],\n",
       "        [ 81,  72, 183],\n",
       "        [ 84,  74, 188]]], dtype=uint8)"
      ]
     },
     "execution_count": 2,
     "metadata": {},
     "output_type": "execute_result"
    }
   ],
   "source": [
    "image=cv2.imread(r'C:\\Users\\anit\\Downloads\\opencv-4.x\\opencv-4.x\\samples\\data\\lena.jpg')\n",
    "image"
   ]
  },
  {
   "cell_type": "code",
   "execution_count": 3,
   "metadata": {},
   "outputs": [],
   "source": [
    "cv2.imshow('lena',image)#Title of the window will be lena\n",
    "cv2.waitKey()\n",
    "cv2.destroyAllWindows()"
   ]
  },
  {
   "cell_type": "code",
   "execution_count": 4,
   "metadata": {},
   "outputs": [
    {
     "name": "stdout",
     "output_type": "stream",
     "text": [
      "(512, 512, 3)\n"
     ]
    }
   ],
   "source": [
    "print(image.shape)\n",
    "cv2.imwrite('lena1.jpg',image)\n",
    "image=cv2.imread('./lena1.jpg')\n",
    "cv2.imshow('lena1',image)\n",
    "cv2.waitKey(5000)#Automatically closes the window after five seconds\n",
    "cv2.destroyAllWindows()"
   ]
  },
  {
   "cell_type": "code",
   "execution_count": 5,
   "metadata": {},
   "outputs": [
    {
     "name": "stdout",
     "output_type": "stream",
     "text": [
      "(512, 512)\n"
     ]
    }
   ],
   "source": [
    "#Black and White Image\n",
    "grey_lena=cv2.cvtColor(image,cv2.COLOR_BGR2GRAY)\n",
    "cv2.imshow('lenaaaa',grey_lena)\n",
    "cv2.waitKey()\n",
    "cv2.destroyAllWindows()\n",
    "print(grey_lena.shape)"
   ]
  },
  {
   "cell_type": "code",
   "execution_count": 6,
   "metadata": {},
   "outputs": [
    {
     "name": "stdout",
     "output_type": "stream",
     "text": [
      "(512, 512)\n"
     ]
    }
   ],
   "source": [
    "image=cv2.imread('./lena1.jpg')\n",
    "B,G,R=cv2.split(image)\n",
    "print(B.shape)\n",
    "cv2.imshow('original image',image)#Shows the original image\n",
    "cv2.imshow('Blue image',B)#Shows Blue image where Blue regions show low intensity \n",
    "cv2.imshow('Red image',R)#Shows Red image where Red regions show low intensity \n",
    "cv2.imshow('Green Image',G)#Shows Green image where Green regions show low intensity and other regions show high intensity.\n",
    "cv2.waitKey()\n",
    "cv2.destroyAllWindows()"
   ]
  },
  {
   "cell_type": "code",
   "execution_count": 7,
   "metadata": {},
   "outputs": [],
   "source": [
    "merge=cv2.merge([B+100,G+100,R+100])#Intensity of Red,Green and Blue is at maximum.\n",
    "cv2.imshow('merged image',merge)\n",
    "cv2.waitKey()\n",
    "cv2.destroyAllWindows()"
   ]
  },
  {
   "cell_type": "markdown",
   "metadata": {},
   "source": [
    "# Read,Write and Show Image using WebCam"
   ]
  },
  {
   "cell_type": "code",
   "execution_count": 8,
   "metadata": {},
   "outputs": [
    {
     "name": "stdout",
     "output_type": "stream",
     "text": [
      "(480, 640, 3)\n"
     ]
    }
   ],
   "source": [
    "#Video will be captured until we press 'q'.\n",
    "import cv2\n",
    "image=cv2.VideoCapture(0)#The values can be 0,1 or -1,But most of the time it will be 0.\n",
    "count=0#Initially count will be given zero\n",
    "while(True):#Create a while loop,until there is a condition to stop\n",
    "    count+=1#Everytime the loop runs count will be incremented by 1\n",
    "    check,frame=image.read()\n",
    "\n",
    "\n",
    "    cv2.imshow('my image',frame)\n",
    "    if cv2.waitKey(1)==ord('q'):#ord:converts a character into its Unicode code value\n",
    "        #If we press q then it will stop capturing the image.\n",
    "            break#The while loop ends here.\n",
    "print(frame.shape)\n",
    "cv2.imwrite('my image' + str(count)+'.jpg',frame)\n",
    "image.release()#WE shut up camera\n",
    "cv2.destroyAllWindows()"
   ]
  },
  {
   "cell_type": "code",
   "execution_count": 9,
   "metadata": {},
   "outputs": [
    {
     "name": "stdout",
     "output_type": "stream",
     "text": [
      "(480, 640, 3)\n"
     ]
    }
   ],
   "source": [
    "#Capturing an image using webcam.\n",
    "import cv2\n",
    "image=cv2.VideoCapture(0)\n",
    "check,frame=image.read()# 2 conditions \n",
    "# check:whether it is working or not, frame : matrix of the image\n",
    "# We start our camera\n",
    "cv2.imshow('my image',frame)\n",
    "cv2.waitKey()\n",
    "print(frame.shape)\n",
    "cv2.imwrite('my image.jpg',frame)\n",
    "image.release()#WE shut up camera\n",
    "cv2.destroyAllWindows()"
   ]
  },
  {
   "cell_type": "code",
   "execution_count": 11,
   "metadata": {},
   "outputs": [
    {
     "name": "stdout",
     "output_type": "stream",
     "text": [
      "(480, 640, 3)\n"
     ]
    }
   ],
   "source": [
    "#Video will be captured until we press 'q'.\n",
    "import cv2\n",
    "image=cv2.VideoCapture(0)#The values can be 0,1 or -1,But most of the time it will be 0.\n",
    "fourcc_code=cv2.VideoWriter_fourcc(*\"XVID\")\n",
    "video=cv2.VideoWriter(\"my video.avi\",fourcc_code,30,(480,640))#30 frames per second,#Size of the video:(480,640)-Tuple\n",
    "while(True):#Create a while loop,until there is a condition to stop\n",
    "    \n",
    "    check,frame=image.read()\n",
    "    video.write(frame)\n",
    "\n",
    "\n",
    "    cv2.imshow('my image',frame)\n",
    "    if cv2.waitKey(1)==ord('q'):#ord:converts a character into its Unicode code value\n",
    "        #If we press q then it will stop capturing the image.\n",
    "            break#The while loop ends here.\n",
    "print(frame.shape)\n",
    "cv2.imwrite('my image.jpg',frame)\n",
    "video.release()#WE shut up camera\n",
    "image.release()\n",
    "cv2.destroyAllWindows()"
   ]
  },
  {
   "cell_type": "code",
   "execution_count": null,
   "metadata": {},
   "outputs": [],
   "source": []
  }
 ],
 "metadata": {
  "kernelspec": {
   "display_name": "Python 3",
   "language": "python",
   "name": "python3"
  },
  "language_info": {
   "codemirror_mode": {
    "name": "ipython",
    "version": 3
   },
   "file_extension": ".py",
   "mimetype": "text/x-python",
   "name": "python",
   "nbconvert_exporter": "python",
   "pygments_lexer": "ipython3",
   "version": "3.8.5"
  }
 },
 "nbformat": 4,
 "nbformat_minor": 4
}
